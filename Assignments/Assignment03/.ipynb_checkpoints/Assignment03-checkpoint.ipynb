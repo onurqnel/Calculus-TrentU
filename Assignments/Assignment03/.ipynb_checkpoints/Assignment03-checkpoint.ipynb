{
 "cells": [
  {
   "cell_type": "code",
   "execution_count": 1,
   "id": "b87cd5cd-4fa9-44a6-96a5-dc4c2deb0dca",
   "metadata": {},
   "outputs": [],
   "source": [
    "# Onur (Honor) Onel\n",
    "# Trent ID: 0865803\n",
    "# E-mail: onuronel@trentu.ca\n",
    "# B.Sc. Software Engineering (1st year)\n",
    "# Submitted 10/18/2024\n",
    "from IPython.core.interactiveshell import InteractiveShell\n",
    "InteractiveShell.ast_node_interactivity = \"all\""
   ]
  },
  {
   "cell_type": "code",
   "execution_count": 3,
   "id": "1e43abaa-64f3-4dc8-9ee0-b2383bdad925",
   "metadata": {},
   "outputs": [
    {
     "data": {
      "text/html": [
       "<html>\\(\\displaystyle x \\frac{\\partial}{\\partial x}y\\left(x\\right) = y\\left(x\\right)\\)</html>"
      ],
      "text/latex": [
       "$\\displaystyle x \\frac{\\partial}{\\partial x}y\\left(x\\right) = y\\left(x\\right)$"
      ],
      "text/plain": [
       "x*diff(y(x), x) == y(x)"
      ]
     },
     "metadata": {},
     "output_type": "display_data"
    },
    {
     "data": {
      "text/html": [
       "<html>\\(\\displaystyle \\verb|1a->| C x\\)</html>"
      ],
      "text/latex": [
       "$\\displaystyle \\verb|1a->| C x$"
      ],
      "text/plain": [
       "'1a->' _C*x"
      ]
     },
     "metadata": {},
     "output_type": "display_data"
    },
    {
     "data": {
      "text/html": [
       "<html>\\(\\displaystyle \\verb|1b->| x\\)</html>"
      ],
      "text/latex": [
       "$\\displaystyle \\verb|1b->| x$"
      ],
      "text/plain": [
       "'1b->' x"
      ]
     },
     "metadata": {},
     "output_type": "display_data"
    },
    {
     "data": {
      "text/html": [
       "<html>\\(\\displaystyle \\verb|1c:|\\)</html>"
      ],
      "text/latex": [
       "$\\displaystyle \\verb|1c:|$"
      ],
      "text/plain": [
       "'1c:'"
      ]
     },
     "metadata": {},
     "output_type": "display_data"
    },
    {
     "data": {
      "text/html": [
       "<html>\\(\\displaystyle \\verb|dy/dx|\\verb| |\\verb|equal|\\verb| |\\verb|to|\\verb| |\\verb|->| 1\\)</html>"
      ],
      "text/latex": [
       "$\\displaystyle \\verb|dy/dx|\\verb| |\\verb|equal|\\verb| |\\verb|to|\\verb| |\\verb|->| 1$"
      ],
      "text/plain": [
       "'dy/dx equal to -> ' 1"
      ]
     },
     "metadata": {},
     "output_type": "display_data"
    },
    {
     "data": {
      "text/html": [
       "<html>\\(\\displaystyle \\verb|Equation|\\verb| |\\verb|becomes|\\verb| |\\verb|->| x = x\\)</html>"
      ],
      "text/latex": [
       "$\\displaystyle \\verb|Equation|\\verb| |\\verb|becomes|\\verb| |\\verb|->| x = x$"
      ],
      "text/plain": [
       "'Equation becomes -> ' x == x"
      ]
     },
     "metadata": {},
     "output_type": "display_data"
    },
    {
     "data": {
      "text/html": [
       "<html>\\(\\displaystyle \\verb|Is|\\verb| |\\verb|given|\\verb| |\\verb|conditions|\\verb| |\\verb|satisfies|\\verb| |\\verb|the|\\verb| |\\verb|equation?|\\verb| |\\verb|->| \\mathrm{True}\\)</html>"
      ],
      "text/latex": [
       "$\\displaystyle \\verb|Is|\\verb| |\\verb|given|\\verb| |\\verb|conditions|\\verb| |\\verb|satisfies|\\verb| |\\verb|the|\\verb| |\\verb|equation?|\\verb| |\\verb|->| \\mathrm{True}$"
      ],
      "text/plain": [
       "'Is given conditions satisfies the equation? -> ' True"
      ]
     },
     "metadata": {},
     "output_type": "display_data"
    },
    {
     "data": {
      "text/html": [
       "<html>\\(\\displaystyle \\verb|Function|\\verb| |\\verb|bool(x|\\verb| |\\verb|*|\\verb| |\\verb|dy_dx|\\verb| |\\verb|==|\\verb| |\\verb|x)|\\verb| |\\verb|ensures|\\verb| |\\verb|the|\\verb| |\\verb|conditions|\\verb| |\\verb|satisfies|\\verb| |\\verb|the|\\verb| |\\verb|equation|\\)</html>"
      ],
      "text/latex": [
       "$\\displaystyle \\verb|Function|\\verb| |\\verb|bool(x|\\verb| |\\verb|*|\\verb| |\\verb|dy_dx|\\verb| |\\verb|==|\\verb| |\\verb|x)|\\verb| |\\verb|ensures|\\verb| |\\verb|the|\\verb| |\\verb|conditions|\\verb| |\\verb|satisfies|\\verb| |\\verb|the|\\verb| |\\verb|equation|$"
      ],
      "text/plain": [
       "'Function bool(x * dy_dx == x) ensures the conditions satisfies the equation'"
      ]
     },
     "metadata": {},
     "output_type": "display_data"
    }
   ],
   "source": [
    "clear_vars()\n",
    "# 1.)   \n",
    "# -a.) Use SageMath to find a general solution to this differential equation.\n",
    "x = var('x')\n",
    "y = function('y')(x) \n",
    "diff_eq = x * diff(y, x) == y \n",
    "solution = desolve(diff_eq, y)\n",
    "show(diff_eq)\n",
    "show(\"1a->\",solution)\n",
    "\n",
    "# -b.) Use SageMath to find a solution to this differential equation satisfying the initial condition y = 1 when x = 1.\n",
    "solution = desolve(diff_eq,y,[1,1])\n",
    "show(\"1b->\", solution)\n",
    "\n",
    "# -c.) Verify – by hand! – that the solution you obtained in part b satisfies the given differential equation with the given initial conditions.\n",
    "dy_dx = diff(solution, x)  \n",
    "left = x * dy_dx\n",
    "right = solution\n",
    "show(\"1c:\")\n",
    "show(\"dy/dx equal to -> \",dy_dx)\n",
    "show(\"Equation becomes -> \", left==right)\n",
    "show(\"Is given conditions satisfies the equation? -> \",bool(left == right))\n",
    "show(\"Function bool(x * dy_dx == x) ensures the conditions satisfies the equation\")"
   ]
  },
  {
   "cell_type": "code",
   "execution_count": 5,
   "id": "cfd8db38-72a0-48e1-8bbe-5455bef96ee1",
   "metadata": {},
   "outputs": [
    {
     "data": {
      "text/html": [
       "<html>\\(\\displaystyle \\frac{\\partial}{\\partial x}y\\left(x\\right) = x y\\left(x\\right)\\)</html>"
      ],
      "text/latex": [
       "$\\displaystyle \\frac{\\partial}{\\partial x}y\\left(x\\right) = x y\\left(x\\right)$"
      ],
      "text/plain": [
       "diff(y(x), x) == x*y(x)"
      ]
     },
     "metadata": {},
     "output_type": "display_data"
    },
    {
     "data": {
      "text/html": [
       "<html>\\(\\displaystyle \\verb|2a=>| C e^{\\left(\\frac{1}{2} \\, x^{2}\\right)}\\)</html>"
      ],
      "text/latex": [
       "$\\displaystyle \\verb|2a=>| C e^{\\left(\\frac{1}{2} \\, x^{2}\\right)}$"
      ],
      "text/plain": [
       "'2a=> ' _C*e^(1/2*x^2)"
      ]
     },
     "metadata": {},
     "output_type": "display_data"
    },
    {
     "data": {
      "text/html": [
       "<html>\\(\\displaystyle \\verb|2b=>| e^{\\left(\\frac{1}{2} \\, x^{2}\\right)}\\)</html>"
      ],
      "text/latex": [
       "$\\displaystyle \\verb|2b=>| e^{\\left(\\frac{1}{2} \\, x^{2}\\right)}$"
      ],
      "text/plain": [
       "'2b=>' e^(1/2*x^2)"
      ]
     },
     "metadata": {},
     "output_type": "display_data"
    },
    {
     "data": {
      "text/html": [
       "<html>\\(\\displaystyle \\verb|2c:|\\)</html>"
      ],
      "text/latex": [
       "$\\displaystyle \\verb|2c:|$"
      ],
      "text/plain": [
       "'2c:'"
      ]
     },
     "metadata": {},
     "output_type": "display_data"
    },
    {
     "data": {
      "text/html": [
       "<html>\\(\\displaystyle \\verb|dy/dx|\\verb| |\\verb|equal|\\verb| |\\verb|to|\\verb| |\\verb|->| x e^{\\left(\\frac{1}{2} \\, x^{2}\\right)}\\)</html>"
      ],
      "text/latex": [
       "$\\displaystyle \\verb|dy/dx|\\verb| |\\verb|equal|\\verb| |\\verb|to|\\verb| |\\verb|->| x e^{\\left(\\frac{1}{2} \\, x^{2}\\right)}$"
      ],
      "text/plain": [
       "'dy/dx equal to -> ' x*e^(1/2*x^2)"
      ]
     },
     "metadata": {},
     "output_type": "display_data"
    },
    {
     "data": {
      "text/html": [
       "<html>\\(\\displaystyle \\verb|Equation|\\verb| |\\verb|becomes|\\verb| |\\verb|->| x e^{\\left(\\frac{1}{2} \\, x^{2}\\right)} = x e^{\\left(\\frac{1}{2} \\, x^{2}\\right)}\\)</html>"
      ],
      "text/latex": [
       "$\\displaystyle \\verb|Equation|\\verb| |\\verb|becomes|\\verb| |\\verb|->| x e^{\\left(\\frac{1}{2} \\, x^{2}\\right)} = x e^{\\left(\\frac{1}{2} \\, x^{2}\\right)}$"
      ],
      "text/plain": [
       "'Equation becomes -> ' x*e^(1/2*x^2) == x*e^(1/2*x^2)"
      ]
     },
     "metadata": {},
     "output_type": "display_data"
    },
    {
     "data": {
      "text/html": [
       "<html>\\(\\displaystyle \\verb|Is|\\verb| |\\verb|given|\\verb| |\\verb|conditions|\\verb| |\\verb|satisfies|\\verb| |\\verb|the|\\verb| |\\verb|equation?|\\verb| |\\verb|->| \\mathrm{True}\\)</html>"
      ],
      "text/latex": [
       "$\\displaystyle \\verb|Is|\\verb| |\\verb|given|\\verb| |\\verb|conditions|\\verb| |\\verb|satisfies|\\verb| |\\verb|the|\\verb| |\\verb|equation?|\\verb| |\\verb|->| \\mathrm{True}$"
      ],
      "text/plain": [
       "'Is given conditions satisfies the equation? -> ' True"
      ]
     },
     "metadata": {},
     "output_type": "display_data"
    },
    {
     "data": {
      "text/html": [
       "<html>\\(\\displaystyle \\verb|Function|\\verb| |\\verb|bool(xe^([1/2]x^2)|\\verb| |\\verb|=|\\verb| |\\verb|xe^([1/2]x^2)|\\verb| |\\verb|ensures|\\verb| |\\verb|the|\\verb| |\\verb|conditions|\\verb| |\\verb|satisfies|\\verb| |\\verb|the|\\verb| |\\verb|equation|\\)</html>"
      ],
      "text/latex": [
       "$\\displaystyle \\verb|Function|\\verb| |\\verb|bool(xe^([1/2]x^2)|\\verb| |\\verb|=|\\verb| |\\verb|xe^([1/2]x^2)|\\verb| |\\verb|ensures|\\verb| |\\verb|the|\\verb| |\\verb|conditions|\\verb| |\\verb|satisfies|\\verb| |\\verb|the|\\verb| |\\verb|equation|$"
      ],
      "text/plain": [
       "'Function bool(xe^([1/2]x^2) = xe^([1/2]x^2) ensures the conditions satisfies the equation'"
      ]
     },
     "metadata": {},
     "output_type": "display_data"
    }
   ],
   "source": [
    "clear_vars()\n",
    "# 2.)\n",
    "# -a.) Use SageMath to find a general solution to this differential equation.\n",
    "x = var('x')\n",
    "y = function('y')(x) \n",
    "diff_eq = diff(y, x) == x*y\n",
    "show(diff_eq)\n",
    "show(\"2a=> \",desolve(diff_eq, y))\n",
    " \n",
    "# -b.) Use SageMath to find a solution to this differential equation satisfying the initial condition y = 1 when x = 0.\n",
    "solution = desolve(diff_eq,y,[0,1])\n",
    "show(\"2b=>\", solution)\n",
    "\n",
    "# -c.) Verify – by hand! – that the solution you obtained in part b satisfies the given differential equation with the given initial conditions.\n",
    "dy_dx = diff(solution, x)\n",
    "left = dy_dx\n",
    "right = x * solution\n",
    "show(\"2c:\")\n",
    "show(\"dy/dx equal to -> \",dy_dx)\n",
    "show(\"Equation becomes -> \", left == right)\n",
    "show(\"Is given conditions satisfies the equation? -> \", bool(left == right))\n",
    "show(\"Function bool(xe^([1/2]x^2) = xe^([1/2]x^2) ensures the conditions satisfies the equation\")"
   ]
  },
  {
   "cell_type": "code",
   "execution_count": 11,
   "id": "9be8678e-9cba-4869-820b-c90b2e65d2de",
   "metadata": {},
   "outputs": [
    {
     "data": {
      "text/html": [
       "<html>\\(\\displaystyle \\verb|Equation|\\verb| |\\verb|->| \\frac{\\partial}{\\partial x}y\\left(x\\right) = y\\left(x\\right)^{2} + 1\\)</html>"
      ],
      "text/latex": [
       "$\\displaystyle \\verb|Equation|\\verb| |\\verb|->| \\frac{\\partial}{\\partial x}y\\left(x\\right) = y\\left(x\\right)^{2} + 1$"
      ],
      "text/plain": [
       "'Equation -> ' diff(y(x), x) == y(x)^2 + 1"
      ]
     },
     "metadata": {},
     "output_type": "display_data"
    },
    {
     "data": {
      "text/html": [
       "<html>\\(\\displaystyle \\verb|3a=>| \\arctan\\left(y\\left(x\\right)\\right) = C + x\\)</html>"
      ],
      "text/latex": [
       "$\\displaystyle \\verb|3a=>| \\arctan\\left(y\\left(x\\right)\\right) = C + x$"
      ],
      "text/plain": [
       "'3a=> ' arctan(y(x)) == _C + x"
      ]
     },
     "metadata": {},
     "output_type": "display_data"
    },
    {
     "data": {
      "text/html": [
       "<html>\\(\\displaystyle \\verb|3b=>| \\arctan\\left(y\\left(x\\right)\\right) = x\\)</html>"
      ],
      "text/latex": [
       "$\\displaystyle \\verb|3b=>| \\arctan\\left(y\\left(x\\right)\\right) = x$"
      ],
      "text/plain": [
       "'3b=>' arctan(y(x)) == x"
      ]
     },
     "metadata": {},
     "output_type": "display_data"
    },
    {
     "data": {
      "text/html": [
       "<html>\\(\\displaystyle \\verb|dy/dx|\\verb| |\\verb|=>| \\frac{1}{x^{2} + 1}\\)</html>"
      ],
      "text/latex": [
       "$\\displaystyle \\verb|dy/dx|\\verb| |\\verb|=>| \\frac{1}{x^{2} + 1}$"
      ],
      "text/plain": [
       "'dy/dx => ' 1/(x^2 + 1)"
      ]
     },
     "metadata": {},
     "output_type": "display_data"
    },
    {
     "data": {
      "text/html": [
       "<html>\\(\\displaystyle \\verb|y^2|\\verb| |\\verb|+|\\verb| |\\verb|1|\\verb| |\\verb|=>| \\arctan\\left(x\\right)^{2} + 1\\)</html>"
      ],
      "text/latex": [
       "$\\displaystyle \\verb|y^2|\\verb| |\\verb|+|\\verb| |\\verb|1|\\verb| |\\verb|=>| \\arctan\\left(x\\right)^{2} + 1$"
      ],
      "text/plain": [
       "'y^2 + 1 => ' arctan(x)^2 + 1"
      ]
     },
     "metadata": {},
     "output_type": "display_data"
    },
    {
     "data": {
      "text/html": [
       "<html>\\(\\displaystyle \\verb|Verification|\\verb| |\\verb|(dy/dx|\\verb| |\\verb|==|\\verb| |\\verb|y^2|\\verb| |\\verb|+|\\verb| |\\verb|1?):| \\mathrm{False}\\)</html>"
      ],
      "text/latex": [
       "$\\displaystyle \\verb|Verification|\\verb| |\\verb|(dy/dx|\\verb| |\\verb|==|\\verb| |\\verb|y^2|\\verb| |\\verb|+|\\verb| |\\verb|1?):| \\mathrm{False}$"
      ],
      "text/plain": [
       "'Verification (dy/dx == y^2 + 1?): ' False"
      ]
     },
     "metadata": {},
     "output_type": "display_data"
    },
    {
     "data": {
      "text/html": [
       "<html>\\(\\displaystyle \\verb|y(0)|\\verb| |\\verb|=>| 0\\)</html>"
      ],
      "text/latex": [
       "$\\displaystyle \\verb|y(0)|\\verb| |\\verb|=>| 0$"
      ],
      "text/plain": [
       "'y(0) => ' 0"
      ]
     },
     "metadata": {},
     "output_type": "display_data"
    },
    {
     "data": {
      "text/html": [
       "<html>\\(\\displaystyle \\verb|Verification|\\verb| |\\verb|(y(0)|\\verb| |\\verb|==|\\verb| |\\verb|0?):| \\mathrm{True}\\)</html>"
      ],
      "text/latex": [
       "$\\displaystyle \\verb|Verification|\\verb| |\\verb|(y(0)|\\verb| |\\verb|==|\\verb| |\\verb|0?):| \\mathrm{True}$"
      ],
      "text/plain": [
       "'Verification (y(0) == 0?): ' True"
      ]
     },
     "metadata": {},
     "output_type": "display_data"
    }
   ],
   "source": [
    "clear_vars()\n",
    "# 3.)\n",
    "# -a.) Use SageMath to find a general solution to this differential equation.\n",
    "x = var('x')\n",
    "y = function('y')(x) \n",
    "diff_eq = diff(y, x) == (y^2)+1\n",
    "show(\"Equation -> \",diff_eq)\n",
    "show(\"3a=> \",desolve(diff_eq, y))\n",
    "\n",
    "# -b.) Use SageMath to find a solution to this differential equation satisfying the initial condition y = 0 when x = 0.\n",
    "solution = desolve(diff_eq,y,[0,0])\n",
    "show(\"3b=>\", solution)\n",
    "\n",
    "# -c.) Verify – by hand! – that the solution you obtained in part b satisfies the given differential equation with the given initial conditions.\n",
    "x = var('x')\n",
    "y_solution = arctan(x)\n",
    "dy_dx = diff(y_solution, x)\n",
    "show(\"dy/dx => \", dy_dx)\n",
    "left = (y_solution^2 + 1)\n",
    "show(\"y^2 + 1 => \", left)\n",
    "show(\"Verification (dy/dx == y^2 + 1?)-> \", bool(dy_dx == left))\n",
    "initial_condition = y_solution.subs(x=0)\n",
    "show(\"y(0) => \", initial_condition)\n",
    "show(\"Verification (y(0) == 0?)-> \", bool(initial_condition == 0))\n",
    "\n"
   ]
  },
  {
   "cell_type": "code",
   "execution_count": 7,
   "id": "1361095d-bd84-42ea-ae26-922b942c8e66",
   "metadata": {},
   "outputs": [
    {
     "data": {
      "text/html": [
       "<html>\\(\\displaystyle \\verb|Original|\\verb| |\\verb|differential|\\verb| |\\verb|equation|\\verb| |\\verb|was:|\\verb| |\\verb|(dy/dx)^2|\\verb| |\\verb|+|\\verb| |\\verb|(x+y)(dy/dx)+xy|\\verb| |\\verb|=|\\verb| |\\verb|0|\\)</html>"
      ],
      "text/latex": [
       "$\\displaystyle \\verb|Original|\\verb| |\\verb|differential|\\verb| |\\verb|equation|\\verb| |\\verb|was:|\\verb| |\\verb|(dy/dx)^2|\\verb| |\\verb|+|\\verb| |\\verb|(x+y)(dy/dx)+xy|\\verb| |\\verb|=|\\verb| |\\verb|0|$"
      ],
      "text/plain": [
       "'Original differential equation was: (dy/dx)^2 + (x+y)(dy/dx)+xy = 0'"
      ]
     },
     "metadata": {},
     "output_type": "display_data"
    },
    {
     "data": {
      "text/html": [
       "<html>\\(\\displaystyle x y\\left(x\\right) + {\\left(x + y\\left(x\\right)\\right)} \\frac{\\partial}{\\partial x}y\\left(x\\right) + \\frac{\\partial}{\\partial x}y\\left(x\\right)^{2} = 0\\)</html>"
      ],
      "text/latex": [
       "$\\displaystyle x y\\left(x\\right) + {\\left(x + y\\left(x\\right)\\right)} \\frac{\\partial}{\\partial x}y\\left(x\\right) + \\frac{\\partial}{\\partial x}y\\left(x\\right)^{2} = 0$"
      ],
      "text/plain": [
       "x*y(x) + (x + y(x))*diff(y(x), x) + diff(y(x), x)^2 == 0"
      ]
     },
     "metadata": {},
     "output_type": "display_data"
    },
    {
     "data": {
      "text/html": [
       "<html>\\(\\displaystyle \\verb|Given|\\verb| |\\verb|differential|\\verb| |\\verb|equation|\\verb| |\\verb|can|\\verb| |\\verb|be|\\verb| |\\verb|factorized|\\verb| |\\verb|as|\\verb| |\\verb|[(dy/dx)+x]|\\verb| |\\verb|*|\\verb| |\\verb|[(dy/dx)+y]|\\)</html>"
      ],
      "text/latex": [
       "$\\displaystyle \\verb|Given|\\verb| |\\verb|differential|\\verb| |\\verb|equation|\\verb| |\\verb|can|\\verb| |\\verb|be|\\verb| |\\verb|factorized|\\verb| |\\verb|as|\\verb| |\\verb|[(dy/dx)+x]|\\verb| |\\verb|*|\\verb| |\\verb|[(dy/dx)+y]|$"
      ],
      "text/plain": [
       "'Given differential equation can be factorized as [(dy/dx)+x] * [(dy/dx)+y]'"
      ]
     },
     "metadata": {},
     "output_type": "display_data"
    },
    {
     "data": {
      "text/html": [
       "<html>\\(\\displaystyle x + \\frac{\\partial}{\\partial x}y\\left(x\\right)\\)</html>"
      ],
      "text/latex": [
       "$\\displaystyle x + \\frac{\\partial}{\\partial x}y\\left(x\\right)$"
      ],
      "text/plain": [
       "x + diff(y(x), x)"
      ]
     },
     "metadata": {},
     "output_type": "display_data"
    },
    {
     "data": {
      "text/html": [
       "<html>\\(\\displaystyle y\\left(x\\right) + \\frac{\\partial}{\\partial x}y\\left(x\\right)\\)</html>"
      ],
      "text/latex": [
       "$\\displaystyle y\\left(x\\right) + \\frac{\\partial}{\\partial x}y\\left(x\\right)$"
      ],
      "text/plain": [
       "y(x) + diff(y(x), x)"
      ]
     },
     "metadata": {},
     "output_type": "display_data"
    }
   ],
   "source": [
    "clear_vars()\n",
    "# 4.)\n",
    "# Explanation\n",
    "x = var('x')\n",
    "y = function('y')(x) \n",
    "org_diff = diff(y, x)^2 + (x + y)*(diff(y, x)) + x*y == 0\n",
    "diff_eq1 = (diff(y,x) + x)\n",
    "diff_eq2 = (diff(y,x) + y)\n",
    "\n",
    "show(\"Original differential equation was: (dy/dx)^2 + (x+y)(dy/dx)+xy = 0\")\n",
    "show(org_diff)\n",
    "\n",
    "show(\"Given differential equation can be factorized as [(dy/dx)+x] * [(dy/dx)+y]\")\n",
    "show(diff_eq1)\n",
    "show(diff_eq2)"
   ]
  },
  {
   "cell_type": "code",
   "execution_count": 8,
   "id": "fb6b51d4-792b-4af3-9ff8-ddea823df790",
   "metadata": {},
   "outputs": [
    {
     "data": {
      "text/html": [
       "<html>\\(\\displaystyle \\verb|4.)|\\verb| |\\verb|result=>| \\left[y\\left(x\\right) = -\\frac{1}{2} \\, x^{2} + C, y\\left(x\\right) = C e^{\\left(-x\\right)}\\right]\\)</html>"
      ],
      "text/latex": [
       "$\\displaystyle \\verb|4.)|\\verb| |\\verb|result=>| \\left[y\\left(x\\right) = -\\frac{1}{2} \\, x^{2} + C, y\\left(x\\right) = C e^{\\left(-x\\right)}\\right]$"
      ],
      "text/plain": [
       "'4.) result=> ' [y(x) == -1/2*x^2 + _C, y(x) == _C*e^(-x)]"
      ]
     },
     "metadata": {},
     "output_type": "display_data"
    }
   ],
   "source": [
    "clear_vars()\n",
    "# 4.)\n",
    "# Use SageMath to help find all the general solutions to the differential equation\n",
    "x = var('x')\n",
    "y = function('y')(x) \n",
    "\n",
    "diff_eq1 = (diff(y,x) + x)\n",
    "diff_eq2 = (diff(y,x) + y)\n",
    "result = ((diff_eq1*diff_eq2)==0)\n",
    " \n",
    "show(\"4.) result=> \",desolve(result,y,contrib_ode=True))"
   ]
  }
 ],
 "metadata": {
  "kernelspec": {
   "display_name": "SageMath 10.4",
   "language": "sage",
   "name": "sagemath"
  },
  "language_info": {
   "codemirror_mode": {
    "name": "ipython",
    "version": 3
   },
   "file_extension": ".py",
   "mimetype": "text/x-python",
   "name": "python",
   "nbconvert_exporter": "python",
   "pygments_lexer": "ipython3",
   "version": "3.12.7"
  }
 },
 "nbformat": 4,
 "nbformat_minor": 5
}
