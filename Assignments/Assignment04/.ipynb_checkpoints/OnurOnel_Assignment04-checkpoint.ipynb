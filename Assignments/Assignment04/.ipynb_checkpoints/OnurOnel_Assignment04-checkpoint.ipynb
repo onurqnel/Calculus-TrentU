{
 "cells": [
  {
   "cell_type": "code",
   "execution_count": 1,
   "id": "07defebe-83b7-42be-9c7e-c17aa1c5fcd8",
   "metadata": {},
   "outputs": [],
   "source": [
    "# Onur (Honor) Onel\n",
    "# Trent ID: 0865803\n",
    "# E-mail: onuronel@trentu.ca\n",
    "# B.Sc. Software Engineering (1st year)\n",
    "# Submitted 11/08/2024\n",
    "from IPython.core.interactiveshell import InteractiveShell\n",
    "InteractiveShell.ast_node_interactivity = \"all\""
   ]
  },
  {
   "cell_type": "code",
   "execution_count": 2,
   "id": "9b58d3a8-f46d-48fb-b681-e4f8af0a28dd",
   "metadata": {},
   "outputs": [
    {
     "data": {
      "text/html": [
       "<html>\\(\\displaystyle \\frac{1}{2} \\, n^{2} + \\frac{1}{2} \\, n\\)</html>"
      ],
      "text/latex": [
       "$\\displaystyle \\frac{1}{2} \\, n^{2} + \\frac{1}{2} \\, n$"
      ],
      "text/plain": [
       "1/2*n^2 + 1/2*n"
      ]
     },
     "metadata": {},
     "output_type": "display_data"
    }
   ],
   "source": [
    "# 1a.)\n",
    "k = var('k')\n",
    "n = var('n')\n",
    "show(sum(k,k,1,n))"
   ]
  },
  {
   "cell_type": "code",
   "execution_count": 4,
   "id": "a7a68979-512e-4e5f-b978-afe849fa696d",
   "metadata": {},
   "outputs": [
    {
     "data": {
      "text/html": [
       "<html>\\(\\displaystyle \\frac{1}{3} \\, n^{3} + \\frac{1}{2} \\, n^{2} + \\frac{1}{6} \\, n\\)</html>"
      ],
      "text/latex": [
       "$\\displaystyle \\frac{1}{3} \\, n^{3} + \\frac{1}{2} \\, n^{2} + \\frac{1}{6} \\, n$"
      ],
      "text/plain": [
       "1/3*n^3 + 1/2*n^2 + 1/6*n"
      ]
     },
     "metadata": {},
     "output_type": "display_data"
    }
   ],
   "source": [
    "# 1b.)\n",
    "k = var('k')\n",
    "n = var('n')\n",
    "show(sum(k^2,k,1,n))"
   ]
  },
  {
   "cell_type": "code",
   "execution_count": 5,
   "id": "afdb5fb4-265d-4fb1-8dd2-c7e9a22f6296",
   "metadata": {},
   "outputs": [
    {
     "data": {
      "text/html": [
       "<html>\\(\\displaystyle \\frac{1}{4} \\, n^{4} + \\frac{1}{2} \\, n^{3} + \\frac{1}{4} \\, n^{2}\\)</html>"
      ],
      "text/latex": [
       "$\\displaystyle \\frac{1}{4} \\, n^{4} + \\frac{1}{2} \\, n^{3} + \\frac{1}{4} \\, n^{2}$"
      ],
      "text/plain": [
       "1/4*n^4 + 1/2*n^3 + 1/4*n^2"
      ]
     },
     "metadata": {},
     "output_type": "display_data"
    }
   ],
   "source": [
    "# 1c.)\n",
    "k = var('k')\n",
    "n = var('n')\n",
    "show(sum(k^3,k,1,n))"
   ]
  },
  {
   "cell_type": "code",
   "execution_count": 6,
   "id": "1c7f7002-c156-48c5-8706-232561cc8416",
   "metadata": {},
   "outputs": [
    {
     "data": {
      "text/html": [
       "<html>\\(\\displaystyle \\frac{1}{5} \\, n^{5} + \\frac{1}{2} \\, n^{4} + \\frac{1}{3} \\, n^{3} - \\frac{1}{30} \\, n\\)</html>"
      ],
      "text/latex": [
       "$\\displaystyle \\frac{1}{5} \\, n^{5} + \\frac{1}{2} \\, n^{4} + \\frac{1}{3} \\, n^{3} - \\frac{1}{30} \\, n$"
      ],
      "text/plain": [
       "1/5*n^5 + 1/2*n^4 + 1/3*n^3 - 1/30*n"
      ]
     },
     "metadata": {},
     "output_type": "display_data"
    }
   ],
   "source": [
    "# 1d.)\n",
    "k = var('k')\n",
    "n = var('n')\n",
    "show(sum(k^4,k,1,n))"
   ]
  },
  {
   "cell_type": "code",
   "execution_count": 17,
   "id": "b74368ad-b0f1-44d1-95f0-ddc863aa9eef",
   "metadata": {},
   "outputs": [
    {
     "data": {
      "text/html": [
       "<html>\\(\\displaystyle \\frac{1}{2} \\, n^{2} + \\frac{1}{2} \\, n\\)</html>"
      ],
      "text/latex": [
       "$\\displaystyle \\frac{1}{2} \\, n^{2} + \\frac{1}{2} \\, n$"
      ],
      "text/plain": [
       "1/2*n^2 + 1/2*n"
      ]
     },
     "metadata": {},
     "output_type": "display_data"
    },
    {
     "data": {
      "text/html": [
       "<html>\\(\\displaystyle \\verb|Does|\\verb| |\\verb|the|\\verb| |\\verb|formula|\\verb| |\\verb|represent|\\verb| |\\verb|the|\\verb| |\\verb|series|\\verb| |\\verb|for|\\verb| |\\verb|n|\\verb| |\\verb|>=|\\verb| |\\verb|1?|\\verb| |\\verb|->| \\mathrm{True}\\)</html>"
      ],
      "text/latex": [
       "$\\displaystyle \\verb|Does|\\verb| |\\verb|the|\\verb| |\\verb|formula|\\verb| |\\verb|represent|\\verb| |\\verb|the|\\verb| |\\verb|series|\\verb| |\\verb|for|\\verb| |\\verb|n|\\verb| |\\verb|>=|\\verb| |\\verb|1?|\\verb| |\\verb|->| \\mathrm{True}$"
      ],
      "text/plain": [
       "'Does the formula represent the series for n >= 1? ->' True"
      ]
     },
     "metadata": {},
     "output_type": "display_data"
    },
    {
     "data": {
      "text/html": [
       "<html>\\(\\displaystyle \\verb|Does|\\verb| |\\verb|the|\\verb| |\\verb|formula|\\verb| |\\verb|represent|\\verb| |\\verb|the|\\verb| |\\verb|series|\\verb| |\\verb|when|\\verb| |\\verb|n|\\verb| |\\verb|is|\\verb| |\\verb|negative?|\\verb| |\\verb|->| \\mathrm{False}\\)</html>"
      ],
      "text/latex": [
       "$\\displaystyle \\verb|Does|\\verb| |\\verb|the|\\verb| |\\verb|formula|\\verb| |\\verb|represent|\\verb| |\\verb|the|\\verb| |\\verb|series|\\verb| |\\verb|when|\\verb| |\\verb|n|\\verb| |\\verb|is|\\verb| |\\verb|negative?|\\verb| |\\verb|->| \\mathrm{False}$"
      ],
      "text/plain": [
       "'Does the formula represent the series when n is negative? ->' False"
      ]
     },
     "metadata": {},
     "output_type": "display_data"
    },
    {
     "data": {
      "text/html": [
       "<html>\\(\\displaystyle \\verb|Does|\\verb| |\\verb|the|\\verb| |\\verb|formula|\\verb| |\\verb|represent|\\verb| |\\verb|the|\\verb| |\\verb|series|\\verb| |\\verb|when|\\verb| |\\verb|n|\\verb| |\\verb|=|\\verb| |\\verb|0?|\\verb| |\\verb|->| \\mathrm{False}\\)</html>"
      ],
      "text/latex": [
       "$\\displaystyle \\verb|Does|\\verb| |\\verb|the|\\verb| |\\verb|formula|\\verb| |\\verb|represent|\\verb| |\\verb|the|\\verb| |\\verb|series|\\verb| |\\verb|when|\\verb| |\\verb|n|\\verb| |\\verb|=|\\verb| |\\verb|0?|\\verb| |\\verb|->| \\mathrm{False}$"
      ],
      "text/plain": [
       "'Does the formula represent the series when n = 0? ->' False"
      ]
     },
     "metadata": {},
     "output_type": "display_data"
    },
    {
     "data": {
      "text/html": [
       "<html>\\(\\displaystyle \\verb|The|\\verb| |\\verb|boolean|\\verb| |\\verb|comparisons|\\verb| |\\verb|verifies|\\verb| |\\verb|that|\\verb| |\\verb|the|\\verb| |\\verb|summation|\\verb| |\\verb|formula|\\verb| |\\verb|is|\\verb| |\\verb|true|\\verb| |\\verb|for|\\verb| |\\verb|all|\\verb| |\\verb|n|\\verb| |\\verb|≥|\\verb| |\\verb|1|\\)</html>"
      ],
      "text/latex": [
       "$\\displaystyle \\verb|The|\\verb| |\\verb|boolean|\\verb| |\\verb|comparisons|\\verb| |\\verb|verifies|\\verb| |\\verb|that|\\verb| |\\verb|the|\\verb| |\\verb|summation|\\verb| |\\verb|formula|\\verb| |\\verb|is|\\verb| |\\verb|true|\\verb| |\\verb|for|\\verb| |\\verb|all|\\verb| |\\verb|n|\\verb| |\\verb|≥|\\verb| |\\verb|1|$"
      ],
      "text/plain": [
       "'The boolean comparisons verifies that the summation formula is true for all n ≥ 1'"
      ]
     },
     "metadata": {},
     "output_type": "display_data"
    }
   ],
   "source": [
    "# 2.) Give an argument that verifies that the summation formula is true for all n ≥ 1\n",
    "k = var('k')\n",
    "n = var('n')\n",
    "assume(n >= 1)\n",
    "\n",
    "show(sum(k, k, 1, n))\n",
    "formula = (n * (n + 1)) / 2\n",
    "show(\"Does the formula represent the series for n >= 1? ->\", bool(sum(k, k, 1, n) == formula))\n",
    "show(\"Does the formula represent the series when n is negative? ->\", bool(sum(k, k, 1, -n) == formula))\n",
    "show(\"Does the formula represent the series when n = 0? ->\", bool(sum(k, k, 1, 0) == formula))\n",
    "show(\"The boolean comparisons verifies that the summation formula is true for all n ≥ 1\")\n",
    "\n"
   ]
  },
  {
   "cell_type": "code",
   "execution_count": 9,
   "id": "a2963cae-56d4-41ec-b60e-5c3923b11b22",
   "metadata": {},
   "outputs": [
    {
     "data": {
      "text/html": [
       "<html>\\(\\displaystyle \\verb|First|\\verb| |\\verb|term|\\verb| |\\verb|is|\\verb| |\\verb|->| 1\\)</html>"
      ],
      "text/latex": [
       "$\\displaystyle \\verb|First|\\verb| |\\verb|term|\\verb| |\\verb|is|\\verb| |\\verb|->| 1$"
      ],
      "text/plain": [
       "'First term is ->' 1"
      ]
     },
     "metadata": {},
     "output_type": "display_data"
    },
    {
     "data": {
      "text/html": [
       "<html>\\(\\displaystyle \\verb|Each|\\verb| |\\verb|iteration|\\verb| |\\verb|adds|\\verb| |\\verb|up|\\verb| |\\verb|half|\\verb| |\\verb|of|\\verb| |\\verb|the|\\verb| |\\verb|previous|\\verb| |\\verb|term|\\)</html>"
      ],
      "text/latex": [
       "$\\displaystyle \\verb|Each|\\verb| |\\verb|iteration|\\verb| |\\verb|adds|\\verb| |\\verb|up|\\verb| |\\verb|half|\\verb| |\\verb|of|\\verb| |\\verb|the|\\verb| |\\verb|previous|\\verb| |\\verb|term|$"
      ],
      "text/plain": [
       "'Each iteration adds up half of the previous term'"
      ]
     },
     "metadata": {},
     "output_type": "display_data"
    },
    {
     "data": {
      "text/html": [
       "<html>\\(\\displaystyle \\verb|Requires|\\verb| |\\verb|infinite|\\verb| |\\verb|iterations|\\verb| |\\verb|to|\\verb| |\\verb|reach|\\verb| |\\verb|exactly|\\verb| |\\verb|2|\\)</html>"
      ],
      "text/latex": [
       "$\\displaystyle \\verb|Requires|\\verb| |\\verb|infinite|\\verb| |\\verb|iterations|\\verb| |\\verb|to|\\verb| |\\verb|reach|\\verb| |\\verb|exactly|\\verb| |\\verb|2|$"
      ],
      "text/plain": [
       "'Requires infinite iterations to reach exactly 2'"
      ]
     },
     "metadata": {},
     "output_type": "display_data"
    },
    {
     "data": {
      "text/html": [
       "<html>\\(\\displaystyle \\verb|However,|\\verb| |\\verb|with|\\verb| |\\verb|each|\\verb| |\\verb|term|\\verb| |\\verb|added,|\\verb| |\\verb|the|\\verb| |\\verb|sum|\\verb| |\\verb|gets|\\verb| |\\verb|closer|\\verb| |\\verb|and|\\verb| |\\verb|closer|\\verb| |\\verb|to|\\verb| |\\verb|2|\\)</html>"
      ],
      "text/latex": [
       "$\\displaystyle \\verb|However,|\\verb| |\\verb|with|\\verb| |\\verb|each|\\verb| |\\verb|term|\\verb| |\\verb|added,|\\verb| |\\verb|the|\\verb| |\\verb|sum|\\verb| |\\verb|gets|\\verb| |\\verb|closer|\\verb| |\\verb|and|\\verb| |\\verb|closer|\\verb| |\\verb|to|\\verb| |\\verb|2|$"
      ],
      "text/plain": [
       "'However, with each term added, the sum gets closer and closer to 2'"
      ]
     },
     "metadata": {},
     "output_type": "display_data"
    },
    {
     "data": {
      "text/html": [
       "<html>\\(\\displaystyle \\verb|This|\\verb| |\\verb|series|\\verb| |\\verb|approaches|\\verb| |\\verb|but|\\verb| |\\verb|never|\\verb| |\\verb|exceeds|\\verb| |\\verb|twice|\\verb| |\\verb|the|\\verb| |\\verb|amount|\\verb| |\\verb|of|\\verb| |\\verb|the|\\verb| |\\verb|first|\\verb| |\\verb|term|\\)</html>"
      ],
      "text/latex": [
       "$\\displaystyle \\verb|This|\\verb| |\\verb|series|\\verb| |\\verb|approaches|\\verb| |\\verb|but|\\verb| |\\verb|never|\\verb| |\\verb|exceeds|\\verb| |\\verb|twice|\\verb| |\\verb|the|\\verb| |\\verb|amount|\\verb| |\\verb|of|\\verb| |\\verb|the|\\verb| |\\verb|first|\\verb| |\\verb|term|$"
      ],
      "text/plain": [
       "'This series approaches but never exceeds twice the amount of the first term'"
      ]
     },
     "metadata": {},
     "output_type": "display_data"
    }
   ],
   "source": [
    "# 3a.) Explain why this infinite sum adds up to 2.\n",
    "k = var('k')\n",
    "sum_expression = sum(1/2^k, k, 0, oo)\n",
    "first_term = 1/2^0\n",
    "\n",
    "show(\"First term is ->\",first_term)\n",
    "show(\"Each iteration adds up half of the previous term\")\n",
    "show(\"Requires infinite iterations to reach exactly 2\")\n",
    "show(\"However, with each term added, the sum gets closer and closer to 2\")\n",
    "show(\"This series approaches but never exceeds twice the amount of the first term\")"
   ]
  },
  {
   "cell_type": "code",
   "execution_count": 10,
   "id": "0cf56294-e4f0-4c86-be36-ce545b015261",
   "metadata": {},
   "outputs": [
    {
     "data": {
      "text/html": [
       "<html>\\(\\displaystyle \\frac{2^{n + 1} - 1}{2^{n}}\\)</html>"
      ],
      "text/latex": [
       "$\\displaystyle \\frac{2^{n + 1} - 1}{2^{n}}$"
      ],
      "text/plain": [
       "(2^(n + 1) - 1)/2^n"
      ]
     },
     "metadata": {},
     "output_type": "display_data"
    }
   ],
   "source": [
    "# 3b.) Use your algebra or SageMath skills to find a summation formula in terms of n for the finite sum\n",
    "k = var('k')\n",
    "n = var('n')\n",
    "show(sum(1/2^k, k, 0, n))"
   ]
  },
  {
   "cell_type": "code",
   "execution_count": 20,
   "id": "67ad92d2-5c79-4c1a-a8af-ba390984dd95",
   "metadata": {},
   "outputs": [
    {
     "data": {
      "text/html": [
       "<html>\\(\\displaystyle \\verb|Limit|\\verb| |\\verb|of|\\verb| |\\verb|this|\\verb| |\\verb|infinite|\\verb| |\\verb|series|\\verb| |\\verb|is|\\verb| |\\verb|->| \\frac{n}{n + 1}\\)</html>"
      ],
      "text/latex": [
       "$\\displaystyle \\verb|Limit|\\verb| |\\verb|of|\\verb| |\\verb|this|\\verb| |\\verb|infinite|\\verb| |\\verb|series|\\verb| |\\verb|is|\\verb| |\\verb|->| \\frac{n}{n + 1}$"
      ],
      "text/plain": [
       "'Limit of this infinite series is -> ' n/(n + 1)"
      ]
     },
     "metadata": {},
     "output_type": "display_data"
    }
   ],
   "source": [
    "# 3c.) Whether by hand or SageMath, compute the infinite sum by taking the limit as n → ∞ of the formula you obtained in part b\n",
    "k = var('k')\n",
    "formula = 2^n+1 - 1 / 2^n\n",
    "limit = lim(sum_expression, x = oo)\n",
    "show(\"Limit of this infinite series is -> \",limit)"
   ]
  },
  {
   "cell_type": "code",
   "execution_count": 12,
   "id": "c8bae82f-c94d-444e-933c-cf25e438b7ca",
   "metadata": {},
   "outputs": [
    {
     "data": {
      "text/html": [
       "<html>\\(\\displaystyle 2\\)</html>"
      ],
      "text/latex": [
       "$\\displaystyle 2$"
      ],
      "text/plain": [
       "2"
      ]
     },
     "metadata": {},
     "output_type": "display_data"
    }
   ],
   "source": [
    "# 3d.) Use SageMath to compute the infinite sum directly. \n",
    "k = var('k')\n",
    "sum_expression = sum(1/2^k, k, 0, oo)\n",
    "show(sum_expression)"
   ]
  },
  {
   "cell_type": "code",
   "execution_count": 14,
   "id": "3b1c695b-5aff-4df7-9859-715e42552f35",
   "metadata": {},
   "outputs": [
    {
     "data": {
      "text/html": [
       "<html>\\(\\displaystyle \\verb|Formula|\\verb| |\\verb|of|\\verb| |\\verb|the|\\verb| |\\verb|series|\\verb| |\\verb|->| \\frac{1}{k^{2} + k}\\)</html>"
      ],
      "text/latex": [
       "$\\displaystyle \\verb|Formula|\\verb| |\\verb|of|\\verb| |\\verb|the|\\verb| |\\verb|series|\\verb| |\\verb|->| \\frac{1}{k^{2} + k}$"
      ],
      "text/plain": [
       "'Formula of the series ->' 1/(k^2 + k)"
      ]
     },
     "metadata": {},
     "output_type": "display_data"
    },
    {
     "data": {
      "text/html": [
       "<html>\\(\\displaystyle \\verb|Using|\\verb| |\\verb|partial|\\verb| |\\verb|terms,|\\verb| |\\verb|the|\\verb| |\\verb|formula|\\verb| |\\verb|becomes|\\verb| |\\verb|->| -\\frac{1}{k + 1} + \\frac{1}{k}\\)</html>"
      ],
      "text/latex": [
       "$\\displaystyle \\verb|Using|\\verb| |\\verb|partial|\\verb| |\\verb|terms,|\\verb| |\\verb|the|\\verb| |\\verb|formula|\\verb| |\\verb|becomes|\\verb| |\\verb|->| -\\frac{1}{k + 1} + \\frac{1}{k}$"
      ],
      "text/plain": [
       "'Using partial terms, the formula becomes ->' -1/(k + 1) + 1/k"
      ]
     },
     "metadata": {},
     "output_type": "display_data"
    },
    {
     "data": {
      "text/html": [
       "<html>\\(\\displaystyle \\verb|When|\\verb| |\\verb|the|\\verb| |\\verb|series|\\verb| |\\verb|is|\\verb| |\\verb|expanded,|\\verb| |\\verb|each|\\verb| |\\verb|term|\\verb| |\\verb|cancels|\\verb| |\\verb|with|\\verb| |\\verb|the|\\verb| |\\verb|following|\\verb| |\\verb|term,|\\verb| |\\verb|leaving|\\verb| |\\verb|only|\\verb| |\\verb|1|\\verb| |\\verb|from|\\verb| |\\verb|the|\\verb| |\\verb|first|\\verb| |\\verb|term.|\\)</html>"
      ],
      "text/latex": [
       "$\\displaystyle \\verb|When|\\verb| |\\verb|the|\\verb| |\\verb|series|\\verb| |\\verb|is|\\verb| |\\verb|expanded,|\\verb| |\\verb|each|\\verb| |\\verb|term|\\verb| |\\verb|cancels|\\verb| |\\verb|with|\\verb| |\\verb|the|\\verb| |\\verb|following|\\verb| |\\verb|term,|\\verb| |\\verb|leaving|\\verb| |\\verb|only|\\verb| |\\verb|1|\\verb| |\\verb|from|\\verb| |\\verb|the|\\verb| |\\verb|first|\\verb| |\\verb|term.|$"
      ],
      "text/plain": [
       "'When the series is expanded, each term cancels with the following term, leaving only 1 from the first term.'"
      ]
     },
     "metadata": {},
     "output_type": "display_data"
    },
    {
     "data": {
      "text/html": [
       "<html>\\(\\displaystyle \\verb|This|\\verb| |\\verb|domino|\\verb| |\\verb|effect|\\verb| |\\verb|requires|\\verb| |\\verb|infinitely|\\verb| |\\verb|many|\\verb| |\\verb|terms|\\verb| |\\verb|to|\\verb| |\\verb|fully|\\verb| |\\verb|cancel|\\verb| |\\verb|out|\\verb| |\\verb|each|\\verb| |\\verb|part,|\\verb| |\\verb|resulting|\\verb| |\\verb|in|\\verb| |\\verb|exactly|\\verb| |\\verb|1.|\\)</html>"
      ],
      "text/latex": [
       "$\\displaystyle \\verb|This|\\verb| |\\verb|domino|\\verb| |\\verb|effect|\\verb| |\\verb|requires|\\verb| |\\verb|infinitely|\\verb| |\\verb|many|\\verb| |\\verb|terms|\\verb| |\\verb|to|\\verb| |\\verb|fully|\\verb| |\\verb|cancel|\\verb| |\\verb|out|\\verb| |\\verb|each|\\verb| |\\verb|part,|\\verb| |\\verb|resulting|\\verb| |\\verb|in|\\verb| |\\verb|exactly|\\verb| |\\verb|1.|$"
      ],
      "text/plain": [
       "'This domino effect requires infinitely many terms to fully cancel out each part, resulting in exactly 1.'"
      ]
     },
     "metadata": {},
     "output_type": "display_data"
    }
   ],
   "source": [
    "# 4a.) Explain why this infinite sum adds up to 1\n",
    "k = var('k')\n",
    "formula = 1 / (k^2 + k)\n",
    "newFormula = 1/k - 1/(k + 1)\n",
    "show(\"Formula of the series ->\", formula)\n",
    "show(\"Using partial terms, the formula becomes ->\", newFormula)\n",
    "show(\"When the series is expanded, each term cancels with the following term, leaving only 1 from the first term.\")\n",
    "show(\"This domino effect requires infinitely many terms to fully cancel out each part, resulting in exactly 1.\")"
   ]
  },
  {
   "cell_type": "code",
   "execution_count": 15,
   "id": "a29fd26d-8cae-4443-a9d3-4ac57945e7e8",
   "metadata": {},
   "outputs": [
    {
     "data": {
      "text/html": [
       "<html>\\(\\displaystyle \\verb|In|\\verb| |\\verb|Assignment|\\verb| |\\verb|#4,|\\verb| |\\verb|Question|\\verb| |\\verb|4.b),|\\verb| |\\verb|the|\\verb| |\\verb|series|\\verb| |\\verb|is|\\verb| |\\verb|defined|\\verb| |\\verb|with|\\verb| |\\verb|k=0.|\\verb| |\\verb|However,|\\verb| |\\verb|this|\\verb| |\\verb|results|\\verb| |\\verb|in|\\verb| |\\verb|an|\\verb| |\\verb|undefined|\\verb| |\\verb|value|\\verb| |\\verb|at|\\verb| |\\verb|the|\\verb| |\\verb|first|\\verb| |\\verb|term|\\verb| |\\verb|due|\\verb| |\\verb|to|\\verb| |\\verb|division|\\verb| |\\verb|by|\\verb| |\\verb|zero.|\\)</html>"
      ],
      "text/latex": [
       "$\\displaystyle \\verb|In|\\verb| |\\verb|Assignment|\\verb| |\\verb|#4,|\\verb| |\\verb|Question|\\verb| |\\verb|4.b),|\\verb| |\\verb|the|\\verb| |\\verb|series|\\verb| |\\verb|is|\\verb| |\\verb|defined|\\verb| |\\verb|with|\\verb| |\\verb|k=0.|\\verb| |\\verb|However,|\\verb| |\\verb|this|\\verb| |\\verb|results|\\verb| |\\verb|in|\\verb| |\\verb|an|\\verb| |\\verb|undefined|\\verb| |\\verb|value|\\verb| |\\verb|at|\\verb| |\\verb|the|\\verb| |\\verb|first|\\verb| |\\verb|term|\\verb| |\\verb|due|\\verb| |\\verb|to|\\verb| |\\verb|division|\\verb| |\\verb|by|\\verb| |\\verb|zero.|$"
      ],
      "text/plain": [
       "'In Assignment #4, Question 4.b), the series is defined with k=0. However, this results in an undefined value at the first term due to division by zero.'"
      ]
     },
     "metadata": {},
     "output_type": "display_data"
    },
    {
     "data": {
      "text/html": [
       "<html>\\(\\displaystyle \\verb|Formula|\\verb| |\\verb|for|\\verb| |\\verb|k=1|\\verb| |\\verb|->| \\frac{n}{n + 1}\\)</html>"
      ],
      "text/latex": [
       "$\\displaystyle \\verb|Formula|\\verb| |\\verb|for|\\verb| |\\verb|k=1|\\verb| |\\verb|->| \\frac{n}{n + 1}$"
      ],
      "text/plain": [
       "'Formula for k=1 -> ' n/(n + 1)"
      ]
     },
     "metadata": {},
     "output_type": "display_data"
    }
   ],
   "source": [
    "# 4b.) Use your algebra or SageMath skills to find a summation formula in terms of n for the finite sum\n",
    "k = var('k')\n",
    "n = var('n')\n",
    "show(\"In Assignment #4, Question 4.b), the series is defined with k=0. However, this results in an undefined value at the first term due to division by zero.\")\n",
    "show(\"Formula for k=1 -> \",sum(1 / (k^2 + k), k, 1, n))"
   ]
  },
  {
   "cell_type": "code",
   "execution_count": 19,
   "id": "02310308-7914-4507-820d-82b03fc31a01",
   "metadata": {},
   "outputs": [
    {
     "data": {
      "text/html": [
       "<html>\\(\\displaystyle \\verb|Limit|\\verb| |\\verb|of|\\verb| |\\verb|this|\\verb| |\\verb|infinite|\\verb| |\\verb|series|\\verb| |\\verb|is|\\verb| |\\verb|->| 2\\)</html>"
      ],
      "text/latex": [
       "$\\displaystyle \\verb|Limit|\\verb| |\\verb|of|\\verb| |\\verb|this|\\verb| |\\verb|infinite|\\verb| |\\verb|series|\\verb| |\\verb|is|\\verb| |\\verb|->| 2$"
      ],
      "text/plain": [
       "'Limit of this infinite series is -> ' 2"
      ]
     },
     "metadata": {},
     "output_type": "display_data"
    }
   ],
   "source": [
    "# 4c.) Whether by hand or SageMath, compute the infinite sum by taking the limit as n → ∞ of the formula you obtained in part b\n",
    "k = var('k')\n",
    "n = var('n')\n",
    "formula = n/n+1\n",
    "limit = lim(formula, x = oo)\n",
    "show(\"Limit of this infinite series is -> \",limit)\n"
   ]
  },
  {
   "cell_type": "code",
   "execution_count": 17,
   "id": "c04e1c27-1aec-4743-9a28-e3467f1223c0",
   "metadata": {},
   "outputs": [
    {
     "data": {
      "text/html": [
       "<html>\\(\\displaystyle 1\\)</html>"
      ],
      "text/latex": [
       "$\\displaystyle 1$"
      ],
      "text/plain": [
       "1"
      ]
     },
     "metadata": {},
     "output_type": "display_data"
    }
   ],
   "source": [
    "# 4d.) Use SageMath to compute the infinite sum directly\n",
    "k = var('k')\n",
    "show(sum(1 / (k^2 + k), k, 1, oo))"
   ]
  },
  {
   "cell_type": "code",
   "execution_count": 18,
   "id": "2ae1503d-144c-4c50-8370-ce49398b1787",
   "metadata": {},
   "outputs": [],
   "source": [
    "# 5.) What does the infinite sum add up to?"
   ]
  },
  {
   "cell_type": "code",
   "execution_count": null,
   "id": "6238ac20-6eb5-495e-9caf-e135737db6dd",
   "metadata": {},
   "outputs": [],
   "source": []
  }
 ],
 "metadata": {
  "kernelspec": {
   "display_name": "SageMath 10.4",
   "language": "sage",
   "name": "sagemath"
  },
  "language_info": {
   "codemirror_mode": {
    "name": "ipython",
    "version": 3
   },
   "file_extension": ".py",
   "mimetype": "text/x-python",
   "name": "python",
   "nbconvert_exporter": "python",
   "pygments_lexer": "ipython3",
   "version": "3.12.7"
  }
 },
 "nbformat": 4,
 "nbformat_minor": 5
}
