{
 "cells": [
  {
   "cell_type": "code",
   "execution_count": 1,
   "id": "ec89f6ee-14be-45f9-a3ae-bdb48e6c24ab",
   "metadata": {},
   "outputs": [],
   "source": [
    "# Onur (Honor) Onel\n",
    "# Trent ID: 0865803  \n",
    "# E-mail: onuronel@trentu.ca\n",
    "# B.Sc. Software Engineering (1st year)\n",
    "# Submitted 11/12/2024\n",
    "\n",
    "# This import statement will allow to receive more than one output from a single code cell.\n",
    "from IPython.core.interactiveshell import InteractiveShell\n",
    "InteractiveShell.ast_node_interactivity = \"all\""
   ]
  },
  {
   "cell_type": "code",
   "execution_count": 2,
   "id": "7fd25347-191e-4b17-9889-34d521b3df13",
   "metadata": {},
   "outputs": [
    {
     "data": {
      "image/png": "[encoded data removed]",
      "text/plain": [
       "Graphics object consisting of 2 graphics primitives"
      ]
     },
     "metadata": {},
     "output_type": "display_data"
    }
   ],
   "source": [
    "# 1.) Sketch the region whose weighted area is computed by this definite integral.\n",
    "f(x) = x^2 -1\n",
    "p = plot(f(x), (x, -3, 3), ymin=-4, ymax=10, color='blue',fill = true, fillcolor='grey')\n",
    "show(p)\n",
    "\n",
    "\n",
    "\n",
    "\n",
    "\n"
   ]
  },
  {
   "cell_type": "code",
   "execution_count": 9,
   "id": "0c584552-ffde-4b61-80c9-4eaee3e582ad",
   "metadata": {},
   "outputs": [],
   "source": [
    "# 2.) Set up the Right-Hand Rule formula for computing this definite integral\n",
    "f = function('f')(x)\n",
    "\n",
    "f(x) = x^2 -1 # integrand\n",
    "a = var('a')  # -1\n",
    "b = var('b')  # 3\n",
    "n = var('n')  # upper limit\n",
    "i = var('i')  # index\n",
    "\n",
    "s(n) = sum( (b-a)/n * f(a+i*(b-a)/n),i, 1, n ) # Right-Hand Formula"
   ]
  },
  {
   "cell_type": "code",
   "execution_count": 4,
   "id": "97d6a9d7-f2b3-4a28-902e-dd21c667fbd9",
   "metadata": {},
   "outputs": [
    {
     "data": {
      "text/html": [
       "<html>\\(\\displaystyle \\frac{16 \\, {\\left(n^{2} + 3 \\, n + 2\\right)}}{3 \\, n^{2}}\\)</html>"
      ],
      "text/latex": [
       "$\\displaystyle \\frac{16 \\, {\\left(n^{2} + 3 \\, n + 2\\right)}}{3 \\, n^{2}}$"
      ],
      "text/plain": [
       "16/3*(n^2 + 3*n + 2)/n^2"
      ]
     },
     "metadata": {},
     "output_type": "display_data"
    },
    {
     "data": {
      "text/html": [
       "<html>\\(\\displaystyle \\verb|Lim|\\verb| |\\verb|n|\\verb| |\\verb|→|\\verb| |\\verb|∞|\\verb| |\\verb|=| \\frac{16}{3}\\)</html>"
      ],
      "text/latex": [
       "$\\displaystyle \\verb|Lim|\\verb| |\\verb|n|\\verb| |\\verb|→|\\verb| |\\verb|∞|\\verb| |\\verb|=| \\frac{16}{3}$"
      ],
      "text/plain": [
       "'Lim n → ∞ = ' 16/3"
      ]
     },
     "metadata": {},
     "output_type": "display_data"
    }
   ],
   "source": [
    "# 3.) Evaluate the formula you obtained in solving question 2 using SageMath\n",
    "s(n) = sum( (4)/n * f(-1+i*(4)/n),i, 1, n )\n",
    "show(s(n))\n",
    "show(\"Lim n → ∞ = \",lim(s(n), n=oo))"
   ]
  },
  {
   "cell_type": "code",
   "execution_count": 5,
   "id": "70d4540b-1cfa-47de-91dc-1484ecb1699a",
   "metadata": {},
   "outputs": [],
   "source": [
    "# 4.) Evaluate the formula you obtained in part b by hand\n",
    "\n"
   ]
  },
  {
   "cell_type": "code",
   "execution_count": 6,
   "id": "00b00e30-208d-46b8-acea-ee1a739a5875",
   "metadata": {},
   "outputs": [
    {
     "data": {
      "text/html": [
       "<html>\\(\\displaystyle \\frac{16}{3}\\)</html>"
      ],
      "text/latex": [
       "$\\displaystyle \\frac{16}{3}$"
      ],
      "text/plain": [
       "16/3"
      ]
     },
     "metadata": {},
     "output_type": "display_data"
    }
   ],
   "source": [
    "# 5.) Evaluate the given definite integral using SageMath’s integral command\n",
    "show(integral(f(x),x,-1,3))"
   ]
  }
 ],
 "metadata": {
  "kernelspec": {
   "display_name": "SageMath 10.4",
   "language": "sage",
   "name": "sagemath"
  },
  "language_info": {
   "codemirror_mode": {
    "name": "ipython",
    "version": 3
   },
   "file_extension": ".py",
   "mimetype": "text/x-python",
   "name": "python",
   "nbconvert_exporter": "python",
   "pygments_lexer": "ipython3",
   "version": "3.12.7"
  }
 },
 "nbformat": 4,
 "nbformat_minor": 5
}
